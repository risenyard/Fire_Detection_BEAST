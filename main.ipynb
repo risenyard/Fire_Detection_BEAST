{
 "cells": [
  {
   "cell_type": "code",
   "execution_count": null,
   "metadata": {},
   "outputs": [],
   "source": [
    "import json\n",
    "import io\n",
    "import contextlib\n",
    "\n",
    "from GEE_Processor import gee_processor\n",
    "from Fire_Detector import fire_detector"
   ]
  },
  {
   "cell_type": "code",
   "execution_count": null,
   "metadata": {},
   "outputs": [],
   "source": [
    "# 1 Load the configuration file.\n",
    "with open('input.json', 'r') as f:\n",
    "    config = json.load(f)"
   ]
  },
  {
   "cell_type": "code",
   "execution_count": null,
   "metadata": {},
   "outputs": [],
   "source": [
    "# 2 Pre-process and download the NDVI time series data from GEE\n",
    "\n",
    "# Get the selected remote sensing data\n",
    "processor = gee_processor(\n",
    "    study_area_shp_path=config['gee_processor']['study_area_shp_path'],\n",
    "    start_date=config['gee_processor']['start_date'],\n",
    "    end_date=config['gee_processor']['end_date'],\n",
    "    land_cover_data=config['gee_processor']['land_cover_data'],\n",
    "    remote_sensing_data=config['gee_processor']['remote_sensing_data']\n",
    ")\n",
    "\n",
    "# Get the NDVI stack\n",
    "NDVI_stack = processor.NDVI_Exract_Stack()\n",
    "\n",
    "# Export the NDVI stack\n",
    "band_names = processor.export_image(\n",
    "    NDVI_stack,\n",
    "    filename=config['export_image']['image_path'],\n",
    "    filename_band_name=config['export_image']['image_band_name'],\n",
    "    scale=config['export_image']['scale'],\n",
    "    crs=config['export_image']['crs'],\n",
    "    unmask_value=config['export_image']['unmask_value']\n",
    ")\n",
    "\n",
    "# Visualize the study area and the NDVI stack\n",
    "processor.geemap_export(NDVI_stack,config['export_image']['geemap_html'])\n"
   ]
  },
  {
   "cell_type": "code",
   "execution_count": null,
   "metadata": {},
   "outputs": [],
   "source": [
    "# 3 Fire Detection with Rbeast\n",
    "\n",
    "# create a string stream object\n",
    "output = io.StringIO()\n",
    "\n",
    "# use contextlib to redirect the stdout to the string stream object\n",
    "with contextlib.redirect_stdout(output):\n",
    "    # Run the fire detection\n",
    "    detector = fire_detector(\n",
    "        file_path=config['export_image']['image_path'],\n",
    "        file_band_names=config['export_image']['image_band_name'],\n",
    "        crs=config['export_image']['crs'],\n",
    "        unmask_value=config['export_image']['unmask_value'],\n",
    "        nan_ratio_threshold=config['fire_detector']['nan_ratio_threshold'],\n",
    "        BEAST_belief_threshold=config['fire_detector']['BEAST_belief_threshold'],\n",
    "        result_directory=config['fire_detector']['result_directory']\n",
    "    )\n",
    "    # Detect the fire on each pixel's time series\n",
    "    time_series_after_detection = detector.detect_fire()\n",
    "    time_series_after_detection_temporary_path = 'ts.pkl'\n",
    "    # Save the fire detection result as a temporal variable to avoid re-running the detection\n",
    "    detector.save_temporal_variable(time_series_after_detection,time_series_after_detection_temporary_path)\n",
    "    # Load the fire detection result as a temporal variable\n",
    "    # time_series_after_detection = detector.load_temporal_variable(time_series_after_detection_temporary_path)\n",
    "    # Visualize the fire detection result\n",
    "    image = detector.fire_visualization(time_series_after_detection)\n",
    "    detector.fire_visualization_by_time(time_series_after_detection)\n",
    "    # Export the fire detection result as a raster\n",
    "    result_raster_path = detector.result_exported_as_raster(image)\n",
    "    # Validate the fire detection result\n",
    "    validation_shp_path = config['fire_detector']['validation_shp_path']\n",
    "    detector.result_validation(result_raster_path,validation_shp_path)"
   ]
  }
 ],
 "metadata": {
  "kernelspec": {
   "display_name": "Python 38",
   "language": "python",
   "name": "python3"
  },
  "language_info": {
   "codemirror_mode": {
    "name": "ipython",
    "version": 3
   },
   "file_extension": ".py",
   "mimetype": "text/x-python",
   "name": "python",
   "nbconvert_exporter": "python",
   "pygments_lexer": "ipython3",
   "version": "3.8.16"
  }
 },
 "nbformat": 4,
 "nbformat_minor": 2
}
